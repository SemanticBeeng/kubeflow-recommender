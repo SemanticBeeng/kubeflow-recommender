{
 "cells": [
  {
   "cell_type": "markdown",
   "metadata": {},
   "source": [
    "# Kubeflow pipeline\n",
    "This is a fairly simple pipeline, containing sequential steps:\n",
    "\n",
    "1. Update data - implemented by lightbend/kubeflow-datapublisher:0.0.1 image\n",
    "2. Run model training. Ideally we would run TFJob, but due to the current limitations for pipelines, we will directly use an image implementing training lightbend/ml-tf-recommender:0.0.1\n",
    "3. Update serving model - implemented by lightbend/kubeflow-modelpublisher:0.0.1"
   ]
  },
  {
   "cell_type": "markdown",
   "metadata": {},
   "source": [
    "# Setup"
   ]
  },
  {
   "cell_type": "code",
   "execution_count": 1,
   "metadata": {},
   "outputs": [],
   "source": [
    "import kfp  # the Pipelines SDK.  This library is included with the notebook image.\n",
    "from kfp import compiler\n",
    "import kfp.dsl as dsl\n",
    "import kfp.notebook\n",
    "from kubernetes import client as k8s_client"
   ]
  },
  {
   "cell_type": "markdown",
   "metadata": {},
   "source": [
    "# Create/Get an Experiment in the Kubeflow Pipeline System\n",
    "The Kubeflow Pipeline system requires an \"Experiment\" to group pipeline runs. You can create a new experiment, or call client.list_experiments() to get existing ones."
   ]
  },
  {
   "cell_type": "code",
   "execution_count": 2,
   "metadata": {},
   "outputs": [],
   "source": [
    "client = kfp.Client()\n",
    "client.list_experiments()\n",
    "#exp = client.create_experiment(name='mdupdate2')\n",
    "exp = client.get_experiment(experiment_name ='mdupdate2')"
   ]
  },
  {
   "cell_type": "markdown",
   "metadata": {},
   "source": [
    "# Define a Pipeline\n",
    "Authoring a pipeline is like authoring a normal Python function. The pipeline function describes the topology of the pipeline.\n",
    "\n",
    "Each step in the pipeline is typically a ContainerOp --- a simple class or function describing how to interact with a docker container image. In the pipeline, all the container images referenced in the pipeline are already built."
   ]
  },
  {
   "cell_type": "code",
   "execution_count": null,
   "metadata": {},
   "outputs": [],
   "source": [
    "@dsl.pipeline(\n",
    "  name='Recommender model update',\n",
    "  description='Demonstrate usage of pipelines for multi-step model update'\n",
    ")\n",
    "def recommender_pipeline():\n",
    "    # Load new data\n",
    "  data = dsl.ContainerOp(\n",
    "      name='updatedata',\n",
    "      output_artifact_paths={\n",
    "        'mlpipeline-ui-metadata': '/output/mlpipeline-ui-metadata.json',\n",
    "        'mlpipeline-metrics': '/output/mlpipeline-metrics.json',\n",
    "      },  \n",
    "      image='lightbend/kubeflow-datapublisher:0.0.1') \\\n",
    "    .add_env_variable(k8s_client.V1EnvVar(name='MINIO_URL',value='http://minio-service.kubeflow.svc.cluster.local:9000')) \\\n",
    "    .add_env_variable(k8s_client.V1EnvVar(name='MINIO_KEY', value='minio')) \\\n",
    "    .add_env_variable(k8s_client.V1EnvVar(name='MINIO_SECRET', value='minio123')) \\\n",
    "    .add_volume(k8s_client.V1Volume(name='outputs', empty_dir=k8s_client.V1EmptyDirVolumeSource())) \\\n",
    "    .add_volume_mount(k8s_client.V1VolumeMount(name='outputs', mount_path='/output')) \n",
    "    # Train the model\n",
    "  train = dsl.ContainerOp(\n",
    "      name='trainmodel',\n",
    "      output_artifact_paths={\n",
    "        'mlpipeline-ui-metadata': '/output/mlpipeline-ui-metadata.json',\n",
    "        'mlpipeline-metrics': '/output/mlpipeline-metrics.json',\n",
    "      },  \n",
    "      image='lightbend/ml-tf-recommender:0.0.1') \\\n",
    "    .add_env_variable(k8s_client.V1EnvVar(name='MINIO_URL',value='minio-service.kubeflow.svc.cluster.local:9000')) \\\n",
    "    .add_env_variable(k8s_client.V1EnvVar(name='MINIO_KEY', value='minio')) \\\n",
    "    .add_env_variable(k8s_client.V1EnvVar(name='MINIO_SECRET', value='minio123')) \\\n",
    "    .add_volume(k8s_client.V1Volume(name='outputs', empty_dir=k8s_client.V1EmptyDirVolumeSource())) \\\n",
    "    .add_volume_mount(k8s_client.V1VolumeMount(name='outputs', mount_path='/output')) \n",
    "  train.after(data)\n",
    "    # Publish new model model\n",
    "  publish = dsl.ContainerOp(\n",
    "      name='publishmodel',\n",
    "      output_artifact_paths={\n",
    "        'mlpipeline-ui-metadata': '/output/mlpipeline-ui-metadata.json',\n",
    "        'mlpipeline-metrics': '/output/mlpipeline-metrics.json',\n",
    "      },  \n",
    "      image='lightbend/kubeflow-modelpublisher:0.0.1') \\\n",
    "    .add_env_variable(k8s_client.V1EnvVar(name='MINIO_URL',value='http://minio-service.kubeflow.svc.cluster.local:9000')) \\\n",
    "    .add_env_variable(k8s_client.V1EnvVar(name='MINIO_KEY', value='minio')) \\\n",
    "    .add_env_variable(k8s_client.V1EnvVar(name='MINIO_SECRET', value='minio123')) \\\n",
    "    .add_env_variable(k8s_client.V1EnvVar(name='KAFKA_BROKERS', value='strimzi-kafka-brokers.boris.svc.cluster.local:9092')) \\\n",
    "    .add_env_variable(k8s_client.V1EnvVar(name='DEFAULT_RECOMMENDER_URL', value='http://recommender.boris.svc.cluster.local:8501')) \\\n",
    "    .add_env_variable(k8s_client.V1EnvVar(name='ALTERNATIVE_RECOMMENDER_URL', value='http://recommender1.boris.svc.cluster.local:8501')) \\\n",
    "    .add_volume(k8s_client.V1Volume(name='outputs', empty_dir=k8s_client.V1EmptyDirVolumeSource())) \\\n",
    "    .add_volume_mount(k8s_client.V1VolumeMount(name='outputs', mount_path='/output')) \n",
    "  publish.after(train)"
   ]
  },
  {
   "cell_type": "markdown",
   "metadata": {},
   "source": [
    "# Compile pipeline"
   ]
  },
  {
   "cell_type": "code",
   "execution_count": null,
   "metadata": {},
   "outputs": [],
   "source": [
    "compiler.Compiler().compile(recommender_pipeline, 'pipeline.tar.gz')"
   ]
  },
  {
   "cell_type": "markdown",
   "metadata": {},
   "source": [
    "# Submit an experiment run"
   ]
  },
  {
   "cell_type": "code",
   "execution_count": null,
   "metadata": {},
   "outputs": [],
   "source": [
    "run = client.run_pipeline(exp.id, 'pipeline1', 'pipeline.tar.gz')"
   ]
  },
  {
   "cell_type": "code",
   "execution_count": null,
   "metadata": {},
   "outputs": [],
   "source": []
  }
 ],
 "metadata": {
  "kernelspec": {
   "display_name": "Python 3",
   "language": "python",
   "name": "python3"
  },
  "language_info": {
   "codemirror_mode": {
    "name": "ipython",
    "version": 3
   },
   "file_extension": ".py",
   "mimetype": "text/x-python",
   "name": "python",
   "nbconvert_exporter": "python",
   "pygments_lexer": "ipython3",
   "version": "3.6.7"
  }
 },
 "nbformat": 4,
 "nbformat_minor": 2
}
